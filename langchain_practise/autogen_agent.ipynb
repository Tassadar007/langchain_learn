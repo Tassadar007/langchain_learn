{
 "cells": [
  {
   "cell_type": "code",
   "execution_count": 2,
   "metadata": {},
   "outputs": [],
   "source": [
    "import autogen\n",
    "config_list = autogen.config_list_from_json(\n",
    "    \"OAI_CONFIG_LIST\",\n",
    "    filter_dict={\n",
    "        \"model\":[\"gpt-4o-mini\"],\n",
    "    },\n",
    ")\n",
    "gpt_api_key = config_list[0][\"api_key\"]"
   ]
  },
  {
   "cell_type": "code",
   "execution_count": 3,
   "metadata": {},
   "outputs": [],
   "source": [
    "import os\n",
    "os.environ[\"OPENAI_API_KEY\"]=gpt_api_key"
   ]
  },
  {
   "cell_type": "code",
   "execution_count": 5,
   "metadata": {},
   "outputs": [],
   "source": [
    "from langchain.vectorstores import Chroma\n",
    "from langchain.embeddings import OpenAIEmbeddings\n",
    "from langchain.text_splitter import RecursiveCharacterTextSplitter\n",
    "from langchain.document_loaders import PyPDFLoader\n",
    "from langchain.memory import ConversationBufferMemory\n",
    "from langchain.llms import OpenAI\n",
    "from langchain.chains import ConversationalRetrievalChain"
   ]
  },
  {
   "cell_type": "code",
   "execution_count": 6,
   "metadata": {},
   "outputs": [],
   "source": [
    "loaders = [PyPDFLoader('./data/whitepaper-v3.pdf')]\n",
    "docs=[]\n",
    "for l in loaders:\n",
    "    docs.extend(l.load())\n",
    "text_spliter = RecursiveCharacterTextSplitter(chunk_size=1000)\n",
    "docs = text_spliter.split_documents(docs)"
   ]
  },
  {
   "cell_type": "code",
   "execution_count": 7,
   "metadata": {},
   "outputs": [
    {
     "data": {
      "text/plain": [
       "['9a5e8b14-ecb7-4fcf-b355-41048be988e8',\n",
       " '60b4d07f-316a-4f91-bb8b-899307bcb4d4',\n",
       " 'fbee4c99-07c5-4e19-b6b0-89c68cc960ff',\n",
       " '14c4fa85-0bd3-41e9-90d3-ee99cfee495f',\n",
       " '1d8a4d8b-5842-405d-97f4-dba3d7320e76',\n",
       " 'bf254d4a-72ad-4579-9df7-a57afc51690d',\n",
       " '1f10e693-1f47-4ca7-819c-72212acf822c',\n",
       " '3dc10430-148b-4a16-8cdb-ea4da7d32e4f',\n",
       " '83bfd4d0-5015-441d-9736-33da2b0335bf',\n",
       " '1b4e6faf-a169-4762-a7b7-995812be7846',\n",
       " 'a8f5677f-eae8-4d4c-8e64-a2ee3ca5bf3a',\n",
       " '506b9541-f7dc-4281-a3d0-3bd3bcb5ddb8',\n",
       " 'b24f4c8b-2086-4feb-a2ee-552e41b6a1cd',\n",
       " '456cd3e4-ab08-457d-b716-4b76130315ed',\n",
       " '4361e3c6-ab6a-4001-b309-961c5cc8bfeb',\n",
       " 'e2a3fd0e-d156-4040-8a14-576b9e936fa1',\n",
       " '6c7b0d96-9d58-4b4a-8560-96deadf5b1a8',\n",
       " '72a88ad1-44b0-4e1f-8f8e-ea09f727d914',\n",
       " '57e1fabd-ccc9-4702-88d7-1a393d68b293',\n",
       " '47a65a9a-42cf-407d-a1bf-772518db68b3',\n",
       " 'bb97cab5-7101-4cfa-a16f-f2574a1c34ac',\n",
       " '7f689bf3-0d50-4f5d-ac11-1d5838e4e22f',\n",
       " '68b42126-277f-4988-97b2-94fcae201e61',\n",
       " '68724851-c1e2-4ba4-9161-ab4262e3c424',\n",
       " '7fbde98c-d784-465a-9f37-979339f0cba2',\n",
       " 'a60aa94b-7755-4fd6-83cd-70be84cd5722',\n",
       " '617897f9-41d5-42a5-b15b-7535e92d86f7',\n",
       " 'c9da9ac0-f78a-49a3-8399-497f278dca71',\n",
       " '8d5f7ff5-b73d-4de5-b1ac-d5dd9a8102b7',\n",
       " '17bbdfc4-c905-4029-b2c4-6dbb2a56b49a',\n",
       " '672d3832-0170-496c-829d-aa3a31011379',\n",
       " '37b9bb1d-ec0c-4ea5-9854-9d8c65aac455',\n",
       " '4496f4e8-1bd8-4e31-9e89-923708cfcdfb',\n",
       " '85f4e8e6-bb1e-4cb9-b1e1-e45ec61bd987',\n",
       " '9cbd5a3a-ebb3-4f90-8280-9cb7b3bec365',\n",
       " 'f39f4486-f2ca-49ba-b012-4e2b8d3041ed',\n",
       " 'e7e7efd6-6b85-4545-becf-b4e746b99fd4',\n",
       " '07eed1e8-eb71-4d8e-8286-9e371ecbe8be',\n",
       " '1a64dcdd-bbf6-49a9-99b6-a4b6911626d7',\n",
       " '9ebe2465-8cd3-43e4-a8b2-a952fc42ce50',\n",
       " 'cc908cd1-aa5d-43b9-9dd0-57b5626bd6bf',\n",
       " '26ca3e18-6888-4d56-acc0-e3555c9f5d1b',\n",
       " '0f4fab04-822e-4be4-94f1-b7b5a75f8774',\n",
       " '4361e430-73e4-494e-a101-f98dcfb3d47b',\n",
       " 'ee410006-c955-491e-96e4-e465323ac9fa',\n",
       " '7c44a18b-ac44-47b0-b3f3-dc389684df7a',\n",
       " '066d4b8a-6a97-4081-8b5a-14b865c8748e',\n",
       " '1e6161d0-57a1-45be-b77a-4a9308bfd58a',\n",
       " '6c3fe9bd-d67b-42b4-a31a-6cb4a3d9d50c',\n",
       " 'b3ecbc34-9770-42ff-a8bd-4502a5476847',\n",
       " '5748a68e-ba71-48c5-b33e-9d39d463ff4c']"
      ]
     },
     "execution_count": 7,
     "metadata": {},
     "output_type": "execute_result"
    }
   ],
   "source": [
    "vectorstore = Chroma(\n",
    "    collection_name=\"full_documents\",\n",
    "    embedding_function=OpenAIEmbeddings()\n",
    "\n",
    ")\n",
    "vectorstore.add_documents(docs)"
   ]
  },
  {
   "cell_type": "code",
   "execution_count": 14,
   "metadata": {},
   "outputs": [],
   "source": [
    "qa = ConversationalRetrievalChain.from_llm(\n",
    "    OpenAI(temperature=0),\n",
    "    retriever=vectorstore.as_retriever(),\n",
    "    memory=ConversationBufferMemory(memory_key=\"chat_history\",return_messages=True)\n",
    ")"
   ]
  },
  {
   "cell_type": "code",
   "execution_count": 15,
   "metadata": {},
   "outputs": [
    {
     "data": {
      "text/plain": [
       "{'question': 'What is uniswap?',\n",
       " 'chat_history': [HumanMessage(content='What is uniswap?'),\n",
       "  AIMessage(content=' Uniswap is a noncustodial automated market maker implemented for the Ethereum Virtual Machine. It provides increased capital efficiency and fine-tuned control to liquidity providers, improves the accuracy and convenience of the price oracle, and has a more flexible fee structure. It was created by Hayden Adams, Noah Zinsmeister, Moody Salem, River Keefer, and Dan Robinson in March 2021.')],\n",
       " 'answer': ' Uniswap is a noncustodial automated market maker implemented for the Ethereum Virtual Machine. It provides increased capital efficiency and fine-tuned control to liquidity providers, improves the accuracy and convenience of the price oracle, and has a more flexible fee structure. It was created by Hayden Adams, Noah Zinsmeister, Moody Salem, River Keefer, and Dan Robinson in March 2021.'}"
      ]
     },
     "execution_count": 15,
     "metadata": {},
     "output_type": "execute_result"
    }
   ],
   "source": [
    "result = qa(({\"question\":\"What is uniswap?\"}))\n",
    "result"
   ]
  },
  {
   "cell_type": "code",
   "execution_count": 16,
   "metadata": {},
   "outputs": [],
   "source": [
    "def answer_uniswap_question(question):\n",
    "    response = qa({\"question\": question})\n",
    "    return response[\"answer\"]"
   ]
  },
  {
   "cell_type": "code",
   "execution_count": 23,
   "metadata": {},
   "outputs": [],
   "source": [
    "# 用function call设置AutoGen的user agent和assistant agent\n",
    "llm_config={\n",
    "    \"request_timeout\":600,\n",
    "    \"seed\":42,\n",
    "    \"config_list\":config_list,\n",
    "    \"temperature\":0,\n",
    "    \"functions\":[\n",
    "        {\n",
    "            \"name\":\"answer_uniswap_question\",\n",
    "            \"description\":\"Answer any Uniswap ralated questions\",\n",
    "            \"parameters\": {\n",
    "                \"type\":\"object\",\n",
    "                \"properties\":{\n",
    "                    \"question\":{\n",
    "                        \"type\":\"string\",\n",
    "                        \"description\":\"The question to ask in relation to Uniswap protocol\",\n",
    "                    }\n",
    "                },\n",
    "                \"required\":[\"question\"],\n",
    "            },\n",
    "        }\n",
    "    ],\n",
    "}"
   ]
  },
  {
   "cell_type": "code",
   "execution_count": 25,
   "metadata": {},
   "outputs": [],
   "source": [
    "assistant = autogen.AssistantAgent(\n",
    "    name=\"assistant\",\n",
    "    llm_config=llm_config,\n",
    ")\n",
    "\n",
    "uesr_proxy = autogen.UserProxyAgent(\n",
    "    name=\"user_proxy\",\n",
    "    human_input_mode=\"NEVER\",\n",
    "    max_consecutive_auto_reply=10,#避免无限对话循环\n",
    "    code_execution_config={\"work_dir\":\".\"},\n",
    "    llm_config=llm_config,\n",
    "    system_message=\"\"\"Reply TERMINATE if the task has been solved at full satisfaction. Otherwise, reply CONTINUE, or the reason why the task is not solved yet.\"\"\",\n",
    "    function_map={\"answer_uniswap_question\":answer_uniswap_question}\n",
    ")"
   ]
  },
  {
   "cell_type": "code",
   "execution_count": 26,
   "metadata": {},
   "outputs": [
    {
     "name": "stdout",
     "output_type": "stream",
     "text": [
      "\u001b[33muser_proxy\u001b[0m (to assistant):\n",
      "\n",
      "\n",
      "I'm writing a blog to introduce the version 3 of Uniswap protocol, Find the answers to the 3 questions below and write a introduction based on the answers.\n",
      "\n",
      "1. What is Uniswap?\n",
      "2. What are the main changes in Uniswap version 3?\n",
      "3. How to use Uniswap?\n",
      "\n",
      "Please start the work now.\n",
      "\n",
      "\n",
      "--------------------------------------------------------------------------------\n",
      "\u001b[33massistant\u001b[0m (to user_proxy):\n",
      "\n",
      "\u001b[32m***** Suggested function Call: answer_uniswap_question *****\u001b[0m\n",
      "Arguments: \n",
      "{\"question\":\"What is Uniswap?\"}\n",
      "\u001b[32m************************************************************\u001b[0m\n",
      "\n",
      "--------------------------------------------------------------------------------\n",
      "\u001b[35m\n",
      ">>>>>>>> EXECUTING FUNCTION answer_uniswap_question...\u001b[0m\n",
      "\u001b[33muser_proxy\u001b[0m (to assistant):\n",
      "\n",
      "\u001b[32m***** Response from calling function \"answer_uniswap_question\" *****\u001b[0m\n",
      " Uniswap v3 is a noncustodial automated market maker implemented for the Ethereum Virtual Machine. It provides increased capital efficiency and fine-tuned control to liquidity providers, improves the accuracy and convenience of the price oracle, and has a more flexible fee structure. Some of its features include concentrated liquidity, flexible fees, protocol fee governance, and improved price oracle. It also introduces multiple pools for each pair of tokens, each with a different swap fee, and allows for non-fungible liquidity and removal of native liquidity tokens.\n",
      "\u001b[32m********************************************************************\u001b[0m\n",
      "\n",
      "--------------------------------------------------------------------------------\n",
      "\u001b[33massistant\u001b[0m (to user_proxy):\n",
      "\n",
      "\u001b[32m***** Suggested function Call: answer_uniswap_question *****\u001b[0m\n",
      "Arguments: \n",
      "{\"question\":\"What are the main changes in Uniswap version 3?\"}\n",
      "\u001b[32m************************************************************\u001b[0m\n",
      "\n",
      "--------------------------------------------------------------------------------\n",
      "\u001b[35m\n",
      ">>>>>>>> EXECUTING FUNCTION answer_uniswap_question...\u001b[0m\n",
      "\u001b[33muser_proxy\u001b[0m (to assistant):\n",
      "\n",
      "\u001b[32m***** Response from calling function \"answer_uniswap_question\" *****\u001b[0m\n",
      " Uniswap v3 introduces multiple pools for each pair of tokens, each with a different swap fee, and allows for concentrated liquidity within a specific price range. It also includes upgrades to the time-weighted average price oracle, making it easier for users to track previous values. Additionally, Uniswap v3 has a non-upgradeable core contract design and allows for liquidity to be aggregated from multiple addresses.\n",
      "\u001b[32m********************************************************************\u001b[0m\n",
      "\n",
      "--------------------------------------------------------------------------------\n",
      "\u001b[33massistant\u001b[0m (to user_proxy):\n",
      "\n",
      "\u001b[32m***** Suggested function Call: answer_uniswap_question *****\u001b[0m\n",
      "Arguments: \n",
      "{\"question\":\"How to use Uniswap?\"}\n",
      "\u001b[32m************************************************************\u001b[0m\n",
      "\n",
      "--------------------------------------------------------------------------------\n",
      "\u001b[35m\n",
      ">>>>>>>> EXECUTING FUNCTION answer_uniswap_question...\u001b[0m\n",
      "\u001b[33muser_proxy\u001b[0m (to assistant):\n",
      "\n",
      "\u001b[32m***** Response from calling function \"answer_uniswap_question\" *****\u001b[0m\n",
      " Uniswap is a noncustodial automated market maker implemented for the Ethereum Virtual Machine. It allows liquidity providers to pool their assets and make them available to traders according to an algorithm. Uniswap v3 provides increased capital efficiency and fine-tuned control to liquidity providers, improves the accuracy and convenience of the price oracle, and has a more flexible fee structure. To use Uniswap, users can deposit their assets into a pool and receive liquidity tokens in return. These tokens can then be used to trade with other assets in the pool. Uniswap v3 also allows for concentrated liquidity, where liquidity providers can choose to concentrate their liquidity within a specific price range. Additionally, Uniswap v3 has a more flexible fee structure, with multiple pools for each pair of tokens with different swap fees. Users can also participate in UNI governance to enable additional fee tiers. Uniswap v3 also includes upgrades to the time-weighted average price oracle, making it easier for users to track previous values.\n",
      "\u001b[32m********************************************************************\u001b[0m\n",
      "\n",
      "--------------------------------------------------------------------------------\n",
      "\u001b[33massistant\u001b[0m (to user_proxy):\n",
      "\n",
      "Based on the information gathered, here is an introduction for your blog about Uniswap version 3:\n",
      "\n",
      "---\n",
      "\n",
      "**Introduction to Uniswap Version 3**\n",
      "\n",
      "Uniswap is a decentralized finance (DeFi) protocol that operates as a noncustodial automated market maker (AMM) on the Ethereum blockchain. It allows users to trade cryptocurrencies directly from their wallets without the need for a centralized exchange. Uniswap facilitates liquidity by enabling users to pool their assets, which are then made available for trading according to a specific algorithm.\n",
      "\n",
      "The latest iteration, Uniswap version 3, brings significant enhancements to the protocol. One of the most notable changes is the introduction of multiple pools for each token pair, each with its own distinct swap fee. This allows liquidity providers to optimize their returns based on their risk tolerance and market conditions. Additionally, Uniswap v3 features concentrated liquidity, enabling providers to allocate their assets within specific price ranges, thereby increasing capital efficiency.\n",
      "\n",
      "Uniswap v3 also improves the time-weighted average price oracle, making it easier for users to track historical prices. The protocol's governance has been enhanced, allowing users to participate in decision-making processes regarding fee structures and other critical aspects of the platform. With its non-upgradeable core contract design, Uniswap v3 ensures greater security and reliability for its users.\n",
      "\n",
      "To use Uniswap, users can deposit their assets into a liquidity pool and receive liquidity tokens in return. These tokens can be utilized for trading within the pool, and liquidity providers can earn fees based on the trading activity. The flexibility of Uniswap v3, with its multiple fee tiers and concentrated liquidity options, empowers users to tailor their trading and liquidity strategies to their specific needs.\n",
      "\n",
      "---\n",
      "\n",
      "Feel free to use or modify this introduction as needed for your blog. \n",
      "\n",
      "TERMINATE\n",
      "\n",
      "--------------------------------------------------------------------------------\n",
      "\u001b[33muser_proxy\u001b[0m (to assistant):\n",
      "\n",
      "TERMINATE\n",
      "\n",
      "--------------------------------------------------------------------------------\n"
     ]
    }
   ],
   "source": [
    "uesr_proxy.initiate_chat(\n",
    "    assistant,\n",
    "    message=\"\"\"\n",
    "I'm writing a blog to introduce the version 3 of Uniswap protocol, Find the answers to the 3 questions below and write a introduction based on the answers.\n",
    "\n",
    "1. What is Uniswap?\n",
    "2. What are the main changes in Uniswap version 3?\n",
    "3. How to use Uniswap?\n",
    "\n",
    "Please start the work now.\n",
    "\"\"\"\n",
    ")"
   ]
  }
 ],
 "metadata": {
  "kernelspec": {
   "display_name": "Python 3",
   "language": "python",
   "name": "python3"
  },
  "language_info": {
   "codemirror_mode": {
    "name": "ipython",
    "version": 3
   },
   "file_extension": ".py",
   "mimetype": "text/x-python",
   "name": "python",
   "nbconvert_exporter": "python",
   "pygments_lexer": "ipython3",
   "version": "3.9.6"
  }
 },
 "nbformat": 4,
 "nbformat_minor": 2
}
