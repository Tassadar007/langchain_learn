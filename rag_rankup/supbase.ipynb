{
 "cells": [
  {
   "cell_type": "code",
   "execution_count": 10,
   "metadata": {},
   "outputs": [
    {
     "name": "stdout",
     "output_type": "stream",
     "text": [
      "Note: you may need to restart the kernel to use updated packages.\n"
     ]
    }
   ],
   "source": [
    "%pip install supabase unstructured langchain_text_splitters -qU"
   ]
  },
  {
   "cell_type": "code",
   "execution_count": 17,
   "metadata": {},
   "outputs": [],
   "source": [
    "import os\n",
    "os.environ[\"SUPABASE_URL\"] = \"\"\n",
    "os.environ[\"SUPABASE_KEY\"] = \"\"\n",
    "os.environ[\"OPENAI_API_KEY\"] = \"\"\n"
   ]
  },
  {
   "cell_type": "code",
   "execution_count": 18,
   "metadata": {},
   "outputs": [],
   "source": [
    "from langchain_community.vectorstores import SupabaseVectorStore\n",
    "from langchain_community.embeddings import OpenAIEmbeddings\n",
    "from langchain_core.documents import Document\n",
    "from supabase.client import create_client, Client\n",
    "supabase_url = os.environ[\"SUPABASE_URL\"]\n",
    "supabase_key = os.environ[\"SUPABASE_KEY\"]\n",
    "supabase = create_client(supabase_url, supabase_key)\n",
    "\n",
    "embeddings = OpenAIEmbeddings()"
   ]
  },
  {
   "cell_type": "code",
   "execution_count": 19,
   "metadata": {},
   "outputs": [],
   "source": [
    "from langchain_community.document_loaders import UnstructuredURLLoader\n",
    "urls = [\"https://supabase.com/blog/openai-embeddings-postgres-vector\"]\n",
    "loader = UnstructuredURLLoader(urls=urls)\n",
    "docs=loader.load()"
   ]
  },
  {
   "cell_type": "code",
   "execution_count": 20,
   "metadata": {},
   "outputs": [
    {
     "data": {
      "text/plain": [
       "22"
      ]
     },
     "execution_count": 20,
     "metadata": {},
     "output_type": "execute_result"
    }
   ],
   "source": [
    "from langchain_text_splitters import RecursiveCharacterTextSplitter\n",
    "text_splitter = RecursiveCharacterTextSplitter(chunk_size=1000, chunk_overlap=200, add_start_index=True)\n",
    "splits = text_splitter.split_documents(docs)\n",
    "len(splits)"
   ]
  },
  {
   "cell_type": "code",
   "execution_count": 6,
   "metadata": {},
   "outputs": [
    {
     "data": {
      "text/plain": [
       "[Document(metadata={'source': 'https://supabase.com/blog/openai-embeddings-postgres-vector', 'start_index': 0}, page_content=\"Back\\n\\nBlog\\n\\nStoring OpenAI embeddings in Postgres with pgvector\\n\\n06 Feb 2023\\n\\n15 minute read\\n\\nGreg RichardsonEngineering\\n\\nA new PostgreSQL extension is now available in Supabase: pgvector, an open-source vector similarity search.\\n\\nThe exponential progress of AI functionality over the past year has inspired many new real world applications. One specific challenge has been the ability to store and query embeddings at scale. In this post we'll explain what embeddings are, why we might want to use them, and how we can store and query them in PostgreSQL using pgvector.\\n\\n🆕 Supabase has now released an open source toolkit for developing AI applications using Postgres and pgvector. Learn more in the AI & Vectors docs.\\n\\nWhat are embeddings?#\\n\\nEmbeddings capture the “relatedness” of text, images, video, or other types of information. This relatedness is most commonly used for:\\n\\nSearch: how similar is a search term to a body of text?\\n\\nRecommendations: how similar are two products?\"),\n",
       " Document(metadata={'source': 'https://supabase.com/blog/openai-embeddings-postgres-vector', 'start_index': 881}, page_content=\"Search: how similar is a search term to a body of text?\\n\\nRecommendations: how similar are two products?\\n\\nClassifications: how do we categorize a body of text?\\n\\nClustering: how do we identify trends?\\n\\nLet's explore an example of text embeddings. Say we have three phrases:\\n\\n“The cat chases the mouse”\\n\\n“The kitten hunts rodents”\\n\\n“I like ham sandwiches”\\n\\nYour job is to group phrases with similar meaning. If you are a human, this should be obvious. Phrases 1 and 2 are almost identical, while phrase 3 has a completely different meaning.\\n\\nAlthough phrases 1 and 2 are similar, they share no common vocabulary (besides “the”). Yet their meanings are nearly identical. How can we teach a computer that these are the same?\\n\\nHuman language#\"),\n",
       " Document(metadata={'source': 'https://supabase.com/blog/openai-embeddings-postgres-vector', 'start_index': 1420}, page_content='Although phrases 1 and 2 are similar, they share no common vocabulary (besides “the”). Yet their meanings are nearly identical. How can we teach a computer that these are the same?\\n\\nHuman language#\\n\\nHumans use words and symbols to communicate language. But words in isolation are mostly meaningless - we need to draw from shared knowledge & experience in order to make sense of them. The phrase “You should Google it” only makes sense if you know that Google is a search engine and that people have been using it as a verb.\\n\\nIn the same way, we need to train a neural network model to understand human language. An effective model should be trained on millions of different examples to understand what each word, phrase, sentence, or paragraph could mean in different contexts.\\n\\nSo how does this relate to embeddings?\\n\\nHow do embeddings work?#'),\n",
       " Document(metadata={'source': 'https://supabase.com/blog/openai-embeddings-postgres-vector', 'start_index': 2199}, page_content=\"So how does this relate to embeddings?\\n\\nHow do embeddings work?#\\n\\nEmbeddings compress discrete information (words & symbols) into distributed continuous-valued data (vectors). If we took our phrases from before and plot them on a chart, it might look something like this:\\n\\nPhrases 1 and 2 would be plotted close to each other, since their meanings are similar. We would expect phrase 3 to live somewhere far away since it isn't related. If we had a fourth phrase, “Sally ate Swiss cheese”, this might exist somewhere between phrase 3 (cheese can go on sandwiches) and phrase 1 (mice like Swiss cheese).\\n\\nIn this example we only have 2 dimensions: the X and Y axis. In reality, we would need many more dimensions to effectively capture the complexities of human language.\\n\\nOpenAI embeddings#\"),\n",
       " Document(metadata={'source': 'https://supabase.com/blog/openai-embeddings-postgres-vector', 'start_index': 2803}, page_content=\"In this example we only have 2 dimensions: the X and Y axis. In reality, we would need many more dimensions to effectively capture the complexities of human language.\\n\\nOpenAI embeddings#\\n\\nOpenAI offers an API to generate embeddings for a string of text using its language model. You feed it any text information (blog articles, documentation, your company's knowledge base), and it will output a vector of floating point numbers that represents the “meaning” of that text.\\n\\nCompared to our 2-dimensional example above, their latest embedding model text-embedding-ada-002 will output 1536 dimensions.\\n\\nWhy is this useful? Once we have generated embeddings on multiple texts, it is trivial to calculate how similar they are using vector math operations like cosine distance. A perfect use case for this is search. Your process might look something like this:\\n\\nPre-process your knowledge base and generate embeddings for each page\\n\\nStore your embeddings to be referenced later (more on this)\"),\n",
       " Document(metadata={'source': 'https://supabase.com/blog/openai-embeddings-postgres-vector', 'start_index': 3661}, page_content=\"Pre-process your knowledge base and generate embeddings for each page\\n\\nStore your embeddings to be referenced later (more on this)\\n\\nBuild a search page that prompts your user for input\\n\\nTake user's input, generate a one-time embedding, then perform a similarity search against your pre-processed embeddings.\\n\\nReturn the most similar pages to the user\\n\\nEmbeddings in practice#\\n\\nAt a small scale, you could store your embeddings in a CSV file, load them into Python, and use a library like numPy to calculate similarity between them using something like cosine distance or dot product. OpenAI has a cookbook example that does just that. Unfortunately this likely won't scale well:\\n\\nWhat if I need to store and search over a large number of documents and embeddings (more than can fit in memory)?\\n\\nWhat if I want to create/update/delete embeddings dynamically?\\n\\nWhat if I'm not using Python?\\n\\nUsing PostgreSQL#\"),\n",
       " Document(metadata={'source': 'https://supabase.com/blog/openai-embeddings-postgres-vector', 'start_index': 4456}, page_content=\"What if I want to create/update/delete embeddings dynamically?\\n\\nWhat if I'm not using Python?\\n\\nUsing PostgreSQL#\\n\\nEnter pgvector, an extension for PostgreSQL that allows you to both store and query vector embeddings within your database. Let's try it out.\\n\\nFirst we'll enable the Vector extension. In Supabase, this can be done from the web portal through Database → Extensions. You can also do this in SQL by running:\\n\\n_10\\n\\ncreate extension vector;\\n\\nNext let's create a table to store our documents and their embeddings:\\n\\n_10\\n\\ncreate table documents (\\n\\n_10\\n\\nid bigserial primary key,\\n\\n_10\\n\\ncontent text,\\n\\n_10\\n\\nembedding vector(1536)\\n\\n_10\\n\\n);\\n\\npgvector introduces a new data type called vector. In the code above, we create a column named embedding with the vector data type. The size of the vector defines how many dimensions the vector holds. OpenAI's text-embedding-ada-002 model outputs 1536 dimensions, so we will use that for our vector size.\"),\n",
       " Document(metadata={'source': 'https://supabase.com/blog/openai-embeddings-postgres-vector', 'start_index': 5406}, page_content=\"We also create a text column named content to store the original document text that produced this embedding. Depending on your use case, you might just store a reference (URL or foreign key) to a document here instead.\\n\\nSoon we're going to need to perform a similarity search over these embeddings. Let's create a function to do that:\\n\\n_21\\n\\ncreate or replace function match_documents (\\n\\n_21\\n\\nquery_embedding vector(1536),\\n\\n_21\\n\\nmatch_threshold float,\\n\\n_21\\n\\nmatch_count int\\n\\n_21\\n\\n_21\\n\\nreturns table (\\n\\n_21\\n\\nid bigint,\\n\\n_21\\n\\ncontent text,\\n\\n_21\\n\\nsimilarity float\\n\\n_21\\n\\n_21\\n\\nlanguage sql stable\\n\\n_21\\n\\nas $$\\n\\n_21\\n\\nselect\\n\\n_21\\n\\ndocuments.id,\\n\\n_21\\n\\ndocuments.content,\\n\\n_21\\n\\n1 - (documents.embedding <=> query_embedding) as similarity\\n\\n_21\\n\\nfrom documents\\n\\n_21\\n\\nwhere documents.embedding <=> query_embedding < 1 - match_threshold\\n\\n_21\\n\\norder by documents.embedding <=> query_embedding\\n\\n_21\\n\\nlimit match_count;\\n\\n_21\\n\\n$$;\\n\\npgvector introduces 3 new operators that can be used to calculate similarity:\"),\n",
       " Document(metadata={'source': 'https://supabase.com/blog/openai-embeddings-postgres-vector', 'start_index': 6229}, page_content=\"_21\\n\\norder by documents.embedding <=> query_embedding\\n\\n_21\\n\\nlimit match_count;\\n\\n_21\\n\\n$$;\\n\\npgvector introduces 3 new operators that can be used to calculate similarity:\\n\\nOperator Description <-> Euclidean distance <#> negative inner product <=> cosine distance\\n\\nOpenAI recommends cosine similarity on their embeddings, so we will use that here.\\n\\nNow we can call match_documents(), pass in our embedding, similarity threshold, and match count, and we'll get a list of all documents that match. And since this is all managed by Postgres, our application code becomes very simple.\\n\\nIndexing#\\n\\nOnce your table starts to grow with embeddings, you will likely want to add an index to speed up queries. Vector indexes are particularly important when you're ordering results because vectors are not grouped by similarity, so finding the closest by sequential scan is a resource-intensive operation.\"),\n",
       " Document(metadata={'source': 'https://supabase.com/blog/openai-embeddings-postgres-vector', 'start_index': 7120}, page_content=\"Each distance operator requires a different type of index. We expect to order by cosine distance, so we need vector_cosine_ops index. A good starting number of lists is 4 * sqrt(table_rows):\\n\\n_10\\n\\ncreate index on documents using ivfflat (embedding vector_cosine_ops)\\n\\n_10\\n\\nwith\\n\\n_10\\n\\n(lists = 100);\\n\\nYou can read more about indexing on pgvector's GitHub page here.\\n\\nGenerating embeddings#\\n\\nLet's use JavaScript to generate embeddings and store them in Postgres:\\n\\n_29\\n\\nimport { createClient } from '@supabase/supabase-js'\\n\\n_29\\n\\nimport { Configuration, OpenAIApi } from 'openai'\\n\\n_29\\n\\nimport { supabaseClient } from './lib/supabase'\\n\\n_29\\n\\n_29\\n\\nasync function generateEmbeddings() {\\n\\n_29\\n\\nconst configuration = new Configuration({ apiKey: '<YOUR_OPENAI_API_KEY>' })\\n\\n_29\\n\\nconst openAi = new OpenAIApi(configuration)\\n\\n_29\\n\\n_29\\n\\nconst documents = await getDocuments() // Your custom function to load docs\\n\\n_29\\n\\n_29\\n\\n// Assuming each document is a string\\n\\n_29\\n\\nfor (const document of documents) {\\n\\n_29\"),\n",
       " Document(metadata={'source': 'https://supabase.com/blog/openai-embeddings-postgres-vector', 'start_index': 7934}, page_content=\"_29\\n\\n_29\\n\\nconst documents = await getDocuments() // Your custom function to load docs\\n\\n_29\\n\\n_29\\n\\n// Assuming each document is a string\\n\\n_29\\n\\nfor (const document of documents) {\\n\\n_29\\n\\n// OpenAI recommends replacing newlines with spaces for best results\\n\\n_29\\n\\nconst input = document.replace(/\\\\n/g, ' ')\\n\\n_29\\n\\n_29\\n\\nconst embeddingResponse = await openai.createEmbedding({\\n\\n_29\\n\\nmodel: 'text-embedding-ada-002',\\n\\n_29\\n\\ninput,\\n\\n_29\\n\\n})\\n\\n_29\\n\\n_29\\n\\nconst [{ embedding }] = embeddingResponse.data.data\\n\\n_29\\n\\n_29\\n\\n// In production we should handle possible errors\\n\\n_29\\n\\nawait supabaseClient.from('documents').insert({\\n\\n_29\\n\\ncontent: document,\\n\\n_29\\n\\nembedding,\\n\\n_29\\n\\n})\\n\\n_29\\n\\n_29\\n\\nBuilding a simple search function#\\n\\nFinally, let's create an Edge Function to perform our similarity search:\\n\\n_45\\n\\nimport { serve } from 'https://deno.land/[email protected]/http/server.ts'\\n\\n_45\\n\\nimport 'https://deno.land/x/[email protected]/mod.ts'\\n\\n_45\\n\\nimport { createClient } from 'jsr:@supabase/supabase-js@2'\\n\\n_45\"),\n",
       " Document(metadata={'source': 'https://supabase.com/blog/openai-embeddings-postgres-vector', 'start_index': 8795}, page_content=\"_45\\n\\nimport 'https://deno.land/x/[email protected]/mod.ts'\\n\\n_45\\n\\nimport { createClient } from 'jsr:@supabase/supabase-js@2'\\n\\n_45\\n\\nimport { Configuration, OpenAIApi } from 'https://esm.sh/[email protected]'\\n\\n_45\\n\\nimport { supabaseClient } from './lib/supabase'\\n\\n_45\\n\\n_45\\n\\nexport const corsHeaders = {\\n\\n_45\\n\\n'Access-Control-Allow-Origin': '*',\\n\\n_45\\n\\n'Access-Control-Allow-Headers': 'authorization, x-client-info, apikey, content-type',\\n\\n_45\\n\\n_45\\n\\n_45\\n\\nserve(async (req) => {\\n\\n_45\\n\\n// Handle CORS\\n\\n_45\\n\\nif (req.method === 'OPTIONS') {\\n\\n_45\\n\\nreturn new Response('ok', { headers: corsHeaders })\\n\\n_45\\n\\n_45\\n\\n_45\\n\\n// Search query is passed in request payload\\n\\n_45\\n\\nconst { query } = await req.json()\\n\\n_45\\n\\n_45\\n\\n// OpenAI recommends replacing newlines with spaces for best results\\n\\n_45\\n\\nconst input = query.replace(/\\\\n/g, ' ')\\n\\n_45\\n\\n_45\\n\\nconst configuration = new Configuration({ apiKey: '<YOUR_OPENAI_API_KEY>' })\\n\\n_45\\n\\nconst openai = new OpenAIApi(configuration)\\n\\n_45\\n\\n_45\"),\n",
       " Document(metadata={'source': 'https://supabase.com/blog/openai-embeddings-postgres-vector', 'start_index': 9568}, page_content=\"_45\\n\\nconst input = query.replace(/\\\\n/g, ' ')\\n\\n_45\\n\\n_45\\n\\nconst configuration = new Configuration({ apiKey: '<YOUR_OPENAI_API_KEY>' })\\n\\n_45\\n\\nconst openai = new OpenAIApi(configuration)\\n\\n_45\\n\\n_45\\n\\n// Generate a one-time embedding for the query itself\\n\\n_45\\n\\nconst embeddingResponse = await openai.createEmbedding({\\n\\n_45\\n\\nmodel: 'text-embedding-ada-002',\\n\\n_45\\n\\ninput,\\n\\n_45\\n\\n})\\n\\n_45\\n\\n_45\\n\\nconst [{ embedding }] = embeddingResponse.data.data\\n\\n_45\\n\\n_45\\n\\n// In production we should handle possible errors\\n\\n_45\\n\\nconst { data: documents } = await supabaseClient.rpc('match_documents', {\\n\\n_45\\n\\nquery_embedding: embedding,\\n\\n_45\\n\\nmatch_threshold: 0.78, // Choose an appropriate threshold for your data\\n\\n_45\\n\\nmatch_count: 10, // Choose the number of matches\\n\\n_45\\n\\n})\\n\\n_45\\n\\n_45\\n\\nreturn new Response(JSON.stringify(documents), {\\n\\n_45\\n\\nheaders: { ...corsHeaders, 'Content-Type': 'application/json' },\\n\\n_45\\n\\n})\\n\\n_45\\n\\n})\\n\\nBuilding a smarter search function#\"),\n",
       " Document(metadata={'source': 'https://supabase.com/blog/openai-embeddings-postgres-vector', 'start_index': 10312}, page_content=\"_45\\n\\n})\\n\\n_45\\n\\n_45\\n\\nreturn new Response(JSON.stringify(documents), {\\n\\n_45\\n\\nheaders: { ...corsHeaders, 'Content-Type': 'application/json' },\\n\\n_45\\n\\n})\\n\\n_45\\n\\n})\\n\\nBuilding a smarter search function#\\n\\nChatGPT doesn't just return existing documents. It's able to assimilate a variety of information into a single, cohesive answer. To do this, we need to provide GPT with some relevant documents, and a prompt that it can use to formulate this answer.\\n\\nOne of the biggest challenges of OpenAI's text-davinci-003 completion model is the 4000 token limit. You must fit both your prompt and the resulting completion within the 4000 tokens. This makes it challenging if you wanted to prompt GPT-3 to answer questions about your own custom knowledge base that would never fit in a single prompt.\\n\\nEmbeddings can help solve this by splitting your prompts into a two-phased process:\\n\\nQuery your embedding database for the most relevant documents related to the question\"),\n",
       " Document(metadata={'source': 'https://supabase.com/blog/openai-embeddings-postgres-vector', 'start_index': 11096}, page_content=\"Embeddings can help solve this by splitting your prompts into a two-phased process:\\n\\nQuery your embedding database for the most relevant documents related to the question\\n\\nInject these documents as context for GPT-3 to reference in its answer\\n\\nHere's another Edge Function that expands upon the simple example above:\\n\\n_100\\n\\nimport { serve } from 'https://deno.land/[email protected]/http/server.ts'\\n\\n_100\\n\\nimport 'https://deno.land/x/[email protected]/mod.ts'\\n\\n_100\\n\\nimport { createClient } from 'jsr:@supabase/supabase-js@2'\\n\\n_100\\n\\nimport GPT3Tokenizer from 'https://esm.sh/[email protected]'\\n\\n_100\\n\\nimport { Configuration, OpenAIApi } from 'https://esm.sh/[email protected]'\\n\\n_100\\n\\nimport { oneLine, stripIndent } from 'https://esm.sh/[email protected]'\\n\\n_100\\n\\nimport { supabaseClient } from './lib/supabase'\\n\\n_100\\n\\n_100\\n\\nexport const corsHeaders = {\\n\\n_100\\n\\n'Access-Control-Allow-Origin': '*',\\n\\n_100\\n\\n'Access-Control-Allow-Headers': 'authorization, x-client-info, apikey, content-type',\\n\\n_100\"),\n",
       " Document(metadata={'source': 'https://supabase.com/blog/openai-embeddings-postgres-vector', 'start_index': 11908}, page_content=\"_100\\n\\n_100\\n\\nexport const corsHeaders = {\\n\\n_100\\n\\n'Access-Control-Allow-Origin': '*',\\n\\n_100\\n\\n'Access-Control-Allow-Headers': 'authorization, x-client-info, apikey, content-type',\\n\\n_100\\n\\n_100\\n\\n_100\\n\\nserve(async (req) => {\\n\\n_100\\n\\n// Handle CORS\\n\\n_100\\n\\nif (req.method === 'OPTIONS') {\\n\\n_100\\n\\nreturn new Response('ok', { headers: corsHeaders })\\n\\n_100\\n\\n_100\\n\\n_100\\n\\n// Search query is passed in request payload\\n\\n_100\\n\\nconst { query } = await req.json()\\n\\n_100\\n\\n_100\\n\\n// OpenAI recommends replacing newlines with spaces for best results\\n\\n_100\\n\\nconst input = query.replace(/\\\\n/g, ' ')\\n\\n_100\\n\\n_100\\n\\nconst configuration = new Configuration({ apiKey: '<YOUR_OPENAI_API_KEY>' })\\n\\n_100\\n\\nconst openai = new OpenAIApi(configuration)\\n\\n_100\\n\\n_100\\n\\n// Generate a one-time embedding for the query itself\\n\\n_100\\n\\nconst embeddingResponse = await openai.createEmbedding({\\n\\n_100\\n\\nmodel: 'text-embedding-ada-002',\\n\\n_100\\n\\ninput,\\n\\n_100\\n\\n})\\n\\n_100\\n\\n_100\\n\\nconst [{ embedding }] = embeddingResponse.data.data\\n\\n_100\\n\\n_100\"),\n",
       " Document(metadata={'source': 'https://supabase.com/blog/openai-embeddings-postgres-vector', 'start_index': 12697}, page_content=\"const embeddingResponse = await openai.createEmbedding({\\n\\n_100\\n\\nmodel: 'text-embedding-ada-002',\\n\\n_100\\n\\ninput,\\n\\n_100\\n\\n})\\n\\n_100\\n\\n_100\\n\\nconst [{ embedding }] = embeddingResponse.data.data\\n\\n_100\\n\\n_100\\n\\n// Fetching whole documents for this simple example.\\n\\n_100\\n\\n//\\n\\n_100\\n\\n// Ideally for context injection, documents are chunked into\\n\\n_100\\n\\n// smaller sections at earlier pre-processing/embedding step.\\n\\n_100\\n\\nconst { data: documents } = await supabaseClient.rpc('match_documents', {\\n\\n_100\\n\\nquery_embedding: embedding,\\n\\n_100\\n\\nmatch_threshold: 0.78, // Choose an appropriate threshold for your data\\n\\n_100\\n\\nmatch_count: 10, // Choose the number of matches\\n\\n_100\\n\\n})\\n\\n_100\\n\\n_100\\n\\nconst tokenizer = new GPT3Tokenizer({ type: 'gpt3' })\\n\\n_100\\n\\nlet tokenCount = 0\\n\\n_100\\n\\nlet contextText = ''\\n\\n_100\\n\\n_100\\n\\n// Concat matched documents\\n\\n_100\\n\\nfor (let i = 0; i < documents.length; i++) {\\n\\n_100\\n\\nconst document = documents[i]\\n\\n_100\\n\\nconst content = document.content\\n\\n_100\"),\n",
       " Document(metadata={'source': 'https://supabase.com/blog/openai-embeddings-postgres-vector', 'start_index': 13457}, page_content='let contextText = \\'\\'\\n\\n_100\\n\\n_100\\n\\n// Concat matched documents\\n\\n_100\\n\\nfor (let i = 0; i < documents.length; i++) {\\n\\n_100\\n\\nconst document = documents[i]\\n\\n_100\\n\\nconst content = document.content\\n\\n_100\\n\\nconst encoded = tokenizer.encode(content)\\n\\n_100\\n\\ntokenCount += encoded.text.length\\n\\n_100\\n\\n_100\\n\\n// Limit context to max 1500 tokens (configurable)\\n\\n_100\\n\\nif (tokenCount > 1500) {\\n\\n_100\\n\\nbreak\\n\\n_100\\n\\n_100\\n\\n_100\\n\\ncontextText += `${content.trim()}\\\\n---\\\\n`\\n\\n_100\\n\\n_100\\n\\n_100\\n\\nconst prompt = stripIndent`${oneLine`\\n\\n_100\\n\\nYou are a very enthusiastic Supabase representative who loves\\n\\n_100\\n\\nto help people! Given the following sections from the Supabase\\n\\n_100\\n\\ndocumentation, answer the question using only that information,\\n\\n_100\\n\\noutputted in markdown format. If you are unsure and the answer\\n\\n_100\\n\\nis not explicitly written in the documentation, say\\n\\n_100\\n\\n\"Sorry, I don\\'t know how to help with that.\"`}\\n\\n_100\\n\\n_100\\n\\nContext sections:\\n\\n_100\\n\\n${contextText}\\n\\n_100\\n\\n_100\\n\\nQuestion: \"\"\"\\n\\n_100\\n\\n${query}'),\n",
       " Document(metadata={'source': 'https://supabase.com/blog/openai-embeddings-postgres-vector', 'start_index': 14305}, page_content='_100\\n\\n\"Sorry, I don\\'t know how to help with that.\"`}\\n\\n_100\\n\\n_100\\n\\nContext sections:\\n\\n_100\\n\\n${contextText}\\n\\n_100\\n\\n_100\\n\\nQuestion: \"\"\"\\n\\n_100\\n\\n${query}\\n\\n_100\\n\\n\"\"\"\\n\\n_100\\n\\n_100\\n\\nAnswer as markdown (including related code snippets if available):\\n\\n_100\\n\\n_100\\n\\n_100\\n\\n// In production we should handle possible errors\\n\\n_100\\n\\nconst completionResponse = await openai.createCompletion({\\n\\n_100\\n\\nmodel: \\'text-davinci-003\\',\\n\\n_100\\n\\nprompt,\\n\\n_100\\n\\nmax_tokens: 512, // Choose the max allowed tokens in completion\\n\\n_100\\n\\ntemperature: 0, // Set to 0 for deterministic results\\n\\n_100\\n\\n})\\n\\n_100\\n\\n_100\\n\\nconst {\\n\\n_100\\n\\nid,\\n\\n_100\\n\\nchoices: [{ text }],\\n\\n_100\\n\\n} = completionResponse.data\\n\\n_100\\n\\n_100\\n\\nreturn new Response(JSON.stringify({ id, text }), {\\n\\n_100\\n\\nheaders: { ...corsHeaders, \\'Content-Type\\': \\'application/json\\' },\\n\\n_100\\n\\n})\\n\\n_100\\n\\n})\\n\\nStreaming results#'),\n",
       " Document(metadata={'source': 'https://supabase.com/blog/openai-embeddings-postgres-vector', 'start_index': 14967}, page_content=\"_100\\n\\n_100\\n\\nreturn new Response(JSON.stringify({ id, text }), {\\n\\n_100\\n\\nheaders: { ...corsHeaders, 'Content-Type': 'application/json' },\\n\\n_100\\n\\n})\\n\\n_100\\n\\n})\\n\\nStreaming results#\\n\\nOpenAI API responses take longer to depending on the length of the “answer”. ChatGPT has a nice UX for this by streaming the response to the user immediately. You can see a similar effect for the Supabase docs:\\n\\nThe OpenAI API supports completion streaming with Server Side Events. Supabase Edge Functions are run Deno, which also supports Server Side Events. Check out this commit to see how we modified the Function above to build a streaming interface.\\n\\nWrap up#\\n\\nStoring embeddings in Postgres opens a world of possibilities. You can combine your search function with telemetry functions, add an user-provided feedback (thumbs up/down), and make your search feel more integrated with your products.\"),\n",
       " Document(metadata={'source': 'https://supabase.com/blog/openai-embeddings-postgres-vector', 'start_index': 15848}, page_content='The pgvector extension is available on all new Supabase projects today. To try it out, launch a new Postgres database: database.new\\n\\nMore pgvector and AI resources#\\n\\nSupabase Clippy: ChatGPT for Supabase Docs\\n\\nHugging Face is now supported in Supabase\\n\\nHow to build ChatGPT Plugin from scratch with Supabase Edge Runtime\\n\\nDocs pgvector: Embeddings and vector similarity\\n\\nChoosing Compute Add-on for AI workloads\\n\\npgvector v0.5.0: Faster semantic search with HNSW indexes\\n\\nShare this article\\n\\nLast post\\n\\nSupabase Clippy: ChatGPT for Supabase Docs\\n\\n7 February 2023\\n\\nNext post\\n\\nSupabase Beta December 2022\\n\\n5 January 2023\\n\\npostgres\\n\\nAI\\n\\nplanetpg\\n\\nOn this page\\n\\nWhat are embeddings?\\n\\nHuman language\\n\\nHow do embeddings work?\\n\\nOpenAI embeddings\\n\\nEmbeddings in practice\\n\\nUsing PostgreSQL\\n\\nIndexing\\n\\nGenerating embeddings\\n\\nBuilding a simple search function\\n\\nBuilding a smarter search function\\n\\nStreaming results\\n\\nWrap up\\n\\nMore pgvector and AI resources\\n\\nShare this article'),\n",
       " Document(metadata={'source': 'https://supabase.com/blog/openai-embeddings-postgres-vector', 'start_index': 16630}, page_content='Indexing\\n\\nGenerating embeddings\\n\\nBuilding a simple search function\\n\\nBuilding a smarter search function\\n\\nStreaming results\\n\\nWrap up\\n\\nMore pgvector and AI resources\\n\\nShare this article\\n\\nBuild in a weekend, scale to billions')]"
      ]
     },
     "execution_count": 6,
     "metadata": {},
     "output_type": "execute_result"
    }
   ],
   "source": [
    "splits"
   ]
  },
  {
   "cell_type": "code",
   "execution_count": 14,
   "metadata": {},
   "outputs": [],
   "source": [
    "vectorstore = SupabaseVectorStore.from_documents(\n",
    "    splits,\n",
    "    embeddings,\n",
    "    client=supabase,\n",
    "    table_name=\"documents\",\n",
    "    query_name=\"match_documents\"\n",
    ")\n",
    "retriever = vectorstore.as_retriever(search_type=\"similarity\", search_kwargs={\"k\": 6})\n",
    "retriever_docs = retriever.invoke(\"How to store embedding with pgvector?\")"
   ]
  },
  {
   "cell_type": "code",
   "execution_count": 10,
   "metadata": {},
   "outputs": [
    {
     "data": {
      "text/plain": [
       "[Document(metadata={'source': 'https://supabase.com/blog/openai-embeddings-postgres-vector', 'start_index': 4456}, page_content=\"What if I want to create/update/delete embeddings dynamically?\\n\\nWhat if I'm not using Python?\\n\\nUsing PostgreSQL#\\n\\nEnter pgvector, an extension for PostgreSQL that allows you to both store and query vector embeddings within your database. Let's try it out.\\n\\nFirst we'll enable the Vector extension. In Supabase, this can be done from the web portal through Database → Extensions. You can also do this in SQL by running:\\n\\n_10\\n\\ncreate extension vector;\\n\\nNext let's create a table to store our documents and their embeddings:\\n\\n_10\\n\\ncreate table documents (\\n\\n_10\\n\\nid bigserial primary key,\\n\\n_10\\n\\ncontent text,\\n\\n_10\\n\\nembedding vector(1536)\\n\\n_10\\n\\n);\\n\\npgvector introduces a new data type called vector. In the code above, we create a column named embedding with the vector data type. The size of the vector defines how many dimensions the vector holds. OpenAI's text-embedding-ada-002 model outputs 1536 dimensions, so we will use that for our vector size.\"),\n",
       " Document(metadata={'source': 'https://supabase.com/blog/openai-embeddings-postgres-vector', 'start_index': 0}, page_content=\"Back\\n\\nBlog\\n\\nStoring OpenAI embeddings in Postgres with pgvector\\n\\n06 Feb 2023\\n\\n15 minute read\\n\\nGreg RichardsonEngineering\\n\\nA new PostgreSQL extension is now available in Supabase: pgvector, an open-source vector similarity search.\\n\\nThe exponential progress of AI functionality over the past year has inspired many new real world applications. One specific challenge has been the ability to store and query embeddings at scale. In this post we'll explain what embeddings are, why we might want to use them, and how we can store and query them in PostgreSQL using pgvector.\\n\\n🆕 Supabase has now released an open source toolkit for developing AI applications using Postgres and pgvector. Learn more in the AI & Vectors docs.\\n\\nWhat are embeddings?#\\n\\nEmbeddings capture the “relatedness” of text, images, video, or other types of information. This relatedness is most commonly used for:\\n\\nSearch: how similar is a search term to a body of text?\\n\\nRecommendations: how similar are two products?\"),\n",
       " Document(metadata={'source': 'https://supabase.com/blog/openai-embeddings-postgres-vector', 'start_index': 15848}, page_content='The pgvector extension is available on all new Supabase projects today. To try it out, launch a new Postgres database: database.new\\n\\nMore pgvector and AI resources#\\n\\nSupabase Clippy: ChatGPT for Supabase Docs\\n\\nHugging Face is now supported in Supabase\\n\\nHow to build ChatGPT Plugin from scratch with Supabase Edge Runtime\\n\\nDocs pgvector: Embeddings and vector similarity\\n\\nChoosing Compute Add-on for AI workloads\\n\\npgvector v0.5.0: Faster semantic search with HNSW indexes\\n\\nShare this article\\n\\nLast post\\n\\nSupabase Clippy: ChatGPT for Supabase Docs\\n\\n7 February 2023\\n\\nNext post\\n\\nSupabase Beta December 2022\\n\\n5 January 2023\\n\\npostgres\\n\\nAI\\n\\nplanetpg\\n\\nOn this page\\n\\nWhat are embeddings?\\n\\nHuman language\\n\\nHow do embeddings work?\\n\\nOpenAI embeddings\\n\\nEmbeddings in practice\\n\\nUsing PostgreSQL\\n\\nIndexing\\n\\nGenerating embeddings\\n\\nBuilding a simple search function\\n\\nBuilding a smarter search function\\n\\nStreaming results\\n\\nWrap up\\n\\nMore pgvector and AI resources\\n\\nShare this article'),\n",
       " Document(metadata={'source': 'https://supabase.com/blog/openai-embeddings-postgres-vector', 'start_index': 5406}, page_content=\"We also create a text column named content to store the original document text that produced this embedding. Depending on your use case, you might just store a reference (URL or foreign key) to a document here instead.\\n\\nSoon we're going to need to perform a similarity search over these embeddings. Let's create a function to do that:\\n\\n_21\\n\\ncreate or replace function match_documents (\\n\\n_21\\n\\nquery_embedding vector(1536),\\n\\n_21\\n\\nmatch_threshold float,\\n\\n_21\\n\\nmatch_count int\\n\\n_21\\n\\n_21\\n\\nreturns table (\\n\\n_21\\n\\nid bigint,\\n\\n_21\\n\\ncontent text,\\n\\n_21\\n\\nsimilarity float\\n\\n_21\\n\\n_21\\n\\nlanguage sql stable\\n\\n_21\\n\\nas $$\\n\\n_21\\n\\nselect\\n\\n_21\\n\\ndocuments.id,\\n\\n_21\\n\\ndocuments.content,\\n\\n_21\\n\\n1 - (documents.embedding <=> query_embedding) as similarity\\n\\n_21\\n\\nfrom documents\\n\\n_21\\n\\nwhere documents.embedding <=> query_embedding < 1 - match_threshold\\n\\n_21\\n\\norder by documents.embedding <=> query_embedding\\n\\n_21\\n\\nlimit match_count;\\n\\n_21\\n\\n$$;\\n\\npgvector introduces 3 new operators that can be used to calculate similarity:\"),\n",
       " Document(metadata={'source': 'https://supabase.com/blog/openai-embeddings-postgres-vector', 'start_index': 16630}, page_content='Indexing\\n\\nGenerating embeddings\\n\\nBuilding a simple search function\\n\\nBuilding a smarter search function\\n\\nStreaming results\\n\\nWrap up\\n\\nMore pgvector and AI resources\\n\\nShare this article\\n\\nBuild in a weekend, scale to billions'),\n",
       " Document(metadata={'source': 'https://supabase.com/blog/openai-embeddings-postgres-vector', 'start_index': 6229}, page_content=\"_21\\n\\norder by documents.embedding <=> query_embedding\\n\\n_21\\n\\nlimit match_count;\\n\\n_21\\n\\n$$;\\n\\npgvector introduces 3 new operators that can be used to calculate similarity:\\n\\nOperator Description <-> Euclidean distance <#> negative inner product <=> cosine distance\\n\\nOpenAI recommends cosine similarity on their embeddings, so we will use that here.\\n\\nNow we can call match_documents(), pass in our embedding, similarity threshold, and match count, and we'll get a list of all documents that match. And since this is all managed by Postgres, our application code becomes very simple.\\n\\nIndexing#\\n\\nOnce your table starts to grow with embeddings, you will likely want to add an index to speed up queries. Vector indexes are particularly important when you're ordering results because vectors are not grouped by similarity, so finding the closest by sequential scan is a resource-intensive operation.\")]"
      ]
     },
     "execution_count": 10,
     "metadata": {},
     "output_type": "execute_result"
    }
   ],
   "source": [
    "retriever_docs"
   ]
  },
  {
   "cell_type": "code",
   "execution_count": 16,
   "metadata": {},
   "outputs": [
    {
     "data": {
      "text/plain": [
       "'To store embeddings with pgvector, you can enable the Vector extension in PostgreSQL and create a table with a column of type vector to store the embeddings. The size of the vector should match the number of dimensions in the embeddings you are working with.'"
      ]
     },
     "execution_count": 16,
     "metadata": {},
     "output_type": "execute_result"
    }
   ],
   "source": [
    "from langchain_core.output_parsers import StrOutputParser\n",
    "from langchain_core.prompts import ChatPromptTemplate\n",
    "from langchain_core.pydantic_v1 import BaseModel, Field\n",
    "from langchain_core.runnables import RunnablePassthrough\n",
    "from langchain_openai import ChatOpenAI\n",
    "\n",
    "class Person(BaseModel):\n",
    "    name: str = Field(description=\"The name of the person\")\n",
    "    age: int = Field(description=\"The age of the person\")\n",
    "\n",
    "prompt = \"\"\"You are an assistant for question-answering tasks. Use the following pieces of retrieved contexts to answer the question. If you don't know the answer, just say that you don't know. \n",
    "Question: {question}\n",
    "Context: {context}\n",
    "Answer:\n",
    "\"\"\"\n",
    "def format_docs(docs):\n",
    "    return \"\\n\\n\".join(doc.page_content for doc in docs)\n",
    "\n",
    "llm = ChatOpenAI(model=\"gpt-3.5-turbo\", temperature=0)\n",
    "prompt = ChatPromptTemplate.from_template(prompt)\n",
    "rag_chain = ({\"context\": (retriever | format_docs), \"question\": RunnablePassthrough()}\n",
    "            | prompt\n",
    "            | llm\n",
    "            | StrOutputParser()\n",
    ")\n",
    "\n",
    "rag_chain.invoke(\"How to store embedding with pgvector?\")\n"
   ]
  },
  {
   "cell_type": "code",
   "execution_count": null,
   "metadata": {},
   "outputs": [],
   "source": []
  }
 ],
 "metadata": {
  "kernelspec": {
   "display_name": "streamlit",
   "language": "python",
   "name": "python3"
  },
  "language_info": {
   "codemirror_mode": {
    "name": "ipython",
    "version": 3
   },
   "file_extension": ".py",
   "mimetype": "text/x-python",
   "name": "python",
   "nbconvert_exporter": "python",
   "pygments_lexer": "ipython3",
   "version": "3.12.4"
  }
 },
 "nbformat": 4,
 "nbformat_minor": 2
}
