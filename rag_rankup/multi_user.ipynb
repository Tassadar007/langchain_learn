{
 "cells": [
  {
   "cell_type": "code",
   "execution_count": 7,
   "metadata": {},
   "outputs": [
    {
     "name": "stdout",
     "output_type": "stream",
     "text": [
      "Note: you may need to restart the kernel to use updated packages.\n"
     ]
    }
   ],
   "source": [
    "%pip install -qU langchain-pinecone pinecone-notebooks langchain-openai langchain-community tiktoken"
   ]
  },
  {
   "cell_type": "code",
   "execution_count": 17,
   "metadata": {},
   "outputs": [
    {
     "name": "stdout",
     "output_type": "stream",
     "text": [
      "Note: you may need to restart the kernel to use updated packages.\n"
     ]
    }
   ],
   "source": [
    "%pip install \"pinecone[grpc]\" -qU"
   ]
  },
  {
   "cell_type": "code",
   "execution_count": 24,
   "metadata": {},
   "outputs": [],
   "source": [
    "PINECONE_API_KEY = \"\"\n",
    "PINECONE_ENVIRONMENT=\"\"\n",
    "PINECONE_INDEX=\"\"\n",
    "\n",
    "OPENAI_API_KEY = \"\"\n",
    "import os\n",
    "os.environ['OPENAI_API_KEY'] = OPENAI_API_KEY"
   ]
  },
  {
   "cell_type": "code",
   "execution_count": 29,
   "metadata": {},
   "outputs": [
    {
     "data": {
      "text/plain": [
       "{'dimension': 1536,\n",
       " 'index_fullness': 0.0,\n",
       " 'namespaces': {},\n",
       " 'total_vector_count': 0}"
      ]
     },
     "execution_count": 29,
     "metadata": {},
     "output_type": "execute_result"
    }
   ],
   "source": [
    "from pinecone import Pinecone, ServerlessSpec\n",
    "pc = Pinecone(api_key=PINECONE_API_KEY)\n",
    "index = pc.Index(PINECONE_INDEX)\n",
    "index.describe_index_stats()"
   ]
  },
  {
   "cell_type": "code",
   "execution_count": 31,
   "metadata": {},
   "outputs": [],
   "source": [
    "from langchain_openai import OpenAIEmbeddings\n",
    "from langchain_pinecone import PineconeVectorStore\n",
    "\n",
    "\n",
    "embeddings = OpenAIEmbeddings(api_key=OPENAI_API_KEY)\n",
    "vectorstore = PineconeVectorStore(index=index, embedding=embeddings, text_key=\"text\")\n"
   ]
  },
  {
   "cell_type": "code",
   "execution_count": 32,
   "metadata": {},
   "outputs": [],
   "source": [
    "USER_1 = \"Alex\"\n",
    "USER_2 = \"Lucy\""
   ]
  },
  {
   "cell_type": "code",
   "execution_count": 33,
   "metadata": {},
   "outputs": [
    {
     "data": {
      "text/plain": [
       "['da9d57c6-360c-48b8-88c9-3e91a31f6267',\n",
       " '785bf668-403a-4302-909b-9fe871641349',\n",
       " '50c02a1d-b88f-411f-8460-87f1397eaf1a',\n",
       " '1ca7c3da-0723-4074-ae1c-82e3e687c5e8',\n",
       " '0fd308d2-952c-41ac-ab21-885000c5caab',\n",
       " 'fd8c3a21-df03-4a1f-8008-6f505bbbaa79',\n",
       " 'd237e7e3-c81d-4446-ae43-bdf31da7c9c7',\n",
       " 'a06b44fa-f8dc-474c-9f97-f237c1c51633',\n",
       " '40cf4ae5-e92e-4d6c-bcd7-d6119c428aa6',\n",
       " '0ef37895-8e4c-4c61-9b1d-62830050edc6',\n",
       " '185483c9-c0b8-4bb7-b0a3-4d00ce47ea43',\n",
       " 'b2f39b67-6119-45da-9e49-1f7234077d11',\n",
       " 'ef193fe8-907a-48ab-91d5-a46f7acba700',\n",
       " 'f0cda25d-dd35-4663-af0a-949a2f0a5eab']"
      ]
     },
     "execution_count": 33,
     "metadata": {},
     "output_type": "execute_result"
    }
   ],
   "source": [
    "from langchain_community.document_loaders import PyPDFLoader\n",
    "\n",
    "loader = PyPDFLoader(\"data/multi_user/whitepaper-v3.pdf\")\n",
    "documents = loader.load_and_split()\n",
    "vectorstore.add_documents(documents, namespace=USER_2)"
   ]
  },
  {
   "cell_type": "code",
   "execution_count": 34,
   "metadata": {},
   "outputs": [
    {
     "data": {
      "text/plain": [
       "['53482f66-ff58-4604-9647-6b72cf5a02da',\n",
       " 'e178621f-7a28-482e-bab8-acb94e9fc7b3',\n",
       " 'ad64060b-2a88-47f0-9c4e-fdd8b11597eb',\n",
       " '16e4af27-6a9d-4bb3-b4c6-27acab5cb04e',\n",
       " '42078b68-2fd1-47ca-8a20-cdda52729327',\n",
       " '1325c252-b225-4394-b4a8-a187eb7ea413',\n",
       " '1a46f554-6079-4473-ba95-5478f5a973bb',\n",
       " 'f27690ff-4512-4668-96df-127e961917e8',\n",
       " 'fbea49b9-03e0-4f61-a3b2-ff6d443a9008',\n",
       " '2b17f63f-d188-4b7d-aaa0-b2fdec1b7546',\n",
       " 'f578d006-17ef-42e5-8a60-ac08a8f1ba2b',\n",
       " '4668bef8-7bc4-4893-99e1-018024f48b45',\n",
       " '08b16332-a740-4c74-8351-396c51ecc7a3',\n",
       " 'ef2c9a38-cd35-4ef1-a1fc-aa641a80c443',\n",
       " 'a1ec20c8-1e2d-4e6c-ba84-9ee22e22935e',\n",
       " 'b37a60c9-0d8e-4dbd-8091-3e9578c7653e',\n",
       " '87e25ce6-9bbf-4f38-b67a-17651f9a26c6',\n",
       " 'f30a09ad-66c2-4e21-8e56-46c21c8230fe',\n",
       " 'f409571b-36e2-475e-b9e9-1a9202202421',\n",
       " '76549251-0372-408a-9100-f80a6cf6306a',\n",
       " '5d9f5116-b01f-4c86-a2f7-b77f2592fda4']"
      ]
     },
     "execution_count": 34,
     "metadata": {},
     "output_type": "execute_result"
    }
   ],
   "source": [
    "loader = PyPDFLoader(\"data/multi_user/SM-EHR-White-Papers_v12.pdf\")\n",
    "documents = loader.load_and_split()\n",
    "vectorstore.add_documents(documents, namespace=USER_1)"
   ]
  },
  {
   "cell_type": "code",
   "execution_count": 35,
   "metadata": {},
   "outputs": [],
   "source": [
    "question = \"What is uniswap?\""
   ]
  },
  {
   "cell_type": "code",
   "execution_count": 40,
   "metadata": {},
   "outputs": [],
   "source": [
    "from langchain_core.output_parsers import StrOutputParser\n",
    "from langchain_core.prompts import ChatPromptTemplate\n",
    "from langchain_core.runnables import (\n",
    "    ConfigurableField,\n",
    "    RunnableBinding,\n",
    "    RunnableLambda,\n",
    "    RunnablePassthrough,\n",
    ")\n",
    "from langchain_openai import ChatOpenAI, OpenAIEmbeddings"
   ]
  },
  {
   "cell_type": "code",
   "execution_count": 36,
   "metadata": {},
   "outputs": [
    {
     "name": "stderr",
     "output_type": "stream",
     "text": [
      "No relevant docs were retrieved using the relevance score threshold 0.9\n"
     ]
    },
    {
     "data": {
      "text/plain": [
       "[]"
      ]
     },
     "execution_count": 36,
     "metadata": {},
     "output_type": "execute_result"
    }
   ],
   "source": [
    "\n",
    "retriever = vectorstore.as_retriever(search_type=\"similarity_score_threshold\", search_kwargs={\"namespace\": USER_1, \"score_threshold\": 0.9})\n",
    "relevant_documents = retriever.invoke(question)\n",
    "relevant_documents"
   ]
  },
  {
   "cell_type": "code",
   "execution_count": 37,
   "metadata": {},
   "outputs": [
    {
     "data": {
      "text/plain": [
       "[Document(metadata={'page': 0.0, 'source': 'data/multi_user/whitepaper-v3.pdf'}, page_content='Uniswap v3 Core\\nMarch 2021\\nHayden Adams\\nhayden@uniswap.orgNoah Zinsmeister\\nnoah@uniswap.orgMoody Salem\\nmoody@uniswap.org\\nRiver Keefer\\nriver@uniswap.orgDan Robinson\\ndan@paradigm.xyz\\nABSTRACT\\nUniswap v3 is a noncustodial automated market maker imple-\\nmented for the Ethereum Virtual Machine. In comparison to earlier\\nversions of the protocol, Uniswap v3 provides increased capital\\nefficiency and fine-tuned control to liquidity providers, improves\\nthe accuracy and convenience of the price oracle, and has a more\\nflexible fee structure.\\n1 INTRODUCTION\\nAutomated market makers (AMMs) are agents that pool liquidity\\nand make it available to traders according to an algorithm [ 5]. Con-\\nstant function market makers (CFMMs), a broad class of AMMs of\\nwhich Uniswap is a member, have seen widespread use in the con-\\ntext of decentralized finance, where they are typically implemented\\nas smart contracts that trade tokens on a permissionless blockchain\\n[2].\\nCFMMs as they are implemented today are often capital inef-\\nficient. In the constant product market maker formula used by\\nUniswap v1 andv2, only a fraction of the assets in the pool are\\navailable at a given price. This is inefficient, particularly when\\nassets are expected to trade close to a particular price at all times.\\nPrior attempts to address this capital efficiency issue, such as\\nCurve [ 3] and YieldSpace [ 4], have involved building pools that use\\ndifferent functions to describe the relation between reserves. This\\nrequires all liquidity providers in a given pool to adhere to a single\\nformula, and could result in liquidity fragmentation if liquidity\\nproviders want to provide liquidity within different price ranges.In this paper, we present Uniswap v3 , a novel AMM that gives\\nliquidity providers more control over the price ranges in which\\ntheir capital is used, with limited effect on liquidity fragmentation\\nand gas inefficiency. This design does not depend on any shared\\nassumption about the price behavior of the tokens. Uniswap v3\\nis based on the same constant product reserves curve as earlier\\nversions [1], but offers several significant new features:\\n•Concentrated Liquidity : Liquidity providers (LPs) are given\\nthe ability to concentrate their liquidity by “bounding\" it\\nwithin an arbitrary price range. This improves the pool’s\\ncapital efficiency and allows LPs to approximate their pre-\\nferred reserves curve, while still being efficiently aggregated\\nwith the rest of the pool. We describe this feature in section\\n2 and its implementation in Section 6.\\n•Flexible Fees : The swap fee is no longer locked at 0.30%.\\nRather, the fee tier for each pool (of which there can be\\nmultiple per asset pair) is set on initialization (Section 3.1).\\nThe initially supported fee tiers are 0.05%,0.30%, and 1%.\\nUNIgovernance is able to add additional values to this set.\\n•Protocol Fee Governance :UNIgovernance has more flexibility\\nin setting the fraction of swap fees collected by the protocol\\n(Section 6.2.2).\\n•Improved Price Oracle :Uniswap v3 provides a way for users\\nto query recent price accumulator values, thus avoiding the\\nneed to checkpoint the accumulator value at the exact be-\\nginning and end of the period for which a TWAP is being\\nmeasured. (Section 5.1).\\n1'),\n",
       " Document(metadata={'page': 2.0, 'source': 'data/multi_user/whitepaper-v3.pdf'}, page_content='initializable ticks), 0.30%(with a tick spacing of 60, approximately\\n0.60%between initializable ticks), and 1%(with a tick spacing of\\n200, approximately 2.02%between ticks.\\nFinally, UNI governance has the power to transfer ownership to\\nanother address.\\n5 ORACLE UPGRADES\\nUniswap v3 includes three significant changes to the time-weighted\\naverage price (TWAP) oracle that was introduced by Uniswap v2.\\nMost significantly, Uniswap v3 removes the need for users of\\nthe oracle to track previous values of the accumulator externally.\\nUniswap v2 requires users to checkpoint the accumulator value\\nat both the beginning and end of the time period for which they\\n2Specifically, the owner will be initialized to the Timelock contract from UNI gover-\\nnance, 0x1a9c8182c09f50c8318d769245bea52c32be35bc.\\n3'),\n",
       " Document(metadata={'page': 2.0, 'source': 'data/multi_user/whitepaper-v3.pdf'}, page_content='Uniswap v3 Core\\n0 ∞\\nPriceLiquidity\\n(I)Uniswap v2𝑝𝑎 𝑝𝑏\\nPriceLiquidity\\n(II)A single position on [𝑝𝑎, 𝑝𝑏]PriceLiquidity\\n(III) A collection of custom positions\\nFigure 3: Example Liquidity Distributions\\n3 ARCHITECTURAL CHANGES\\nUniswap v3 makes a number of architectural changes, some of\\nwhich are necessitated by the inclusion of concentrated liquidity,\\nand some of which are independent improvements.\\n3.1 Multiple Pools Per Pair\\nInUniswap v1 andv2, every pair of tokens corresponds to a single\\nliquidity pool, which applies a uniform fee of 0.30%to all swaps.\\nWhile this default fee tier historically worked well enough for many\\ntokens, it is likely too high for some pools (such as pools between\\ntwo stablecoins), and too low for others (such as pools that include\\nhighly volatile or rarely traded tokens).\\nUniswap v3 introduces multiple pools for each pair of tokens,\\neach with a different swap fee. All pools are created by the same\\nfactory contract. The factory contract initially allows pools to be\\ncreated at three fee tiers: 0.05%,0.30%, and 1%. Additional fee tiers\\ncan be enabled by UNI governance.\\n3.2 Non-Fungible Liquidity\\n3.2.1 Non-Compounding Fees. Fees earned in earlier versions were\\ncontinuously deposited in the pool as liquidity. This meant that\\nliquidity in the pool would grow over time, even without explicit\\ndeposits, and that fee earnings compounded.\\nInUniswap v3 , due to the non-fungible nature of positions, this\\nis no longer possible. Instead, fee earnings are stored separately\\nand held as the tokens in which the fees are paid (see Section 6.2.2).\\n3.2.2 Removal of Native Liquidity Tokens. InUniswap v1 andv2,\\nthe pool contract is also an ERC-20 token contract, whose tokens\\nrepresent liquidity held in the pool. While this is convenient, it\\nactually sits uneasily with the Uniswap v2 philosophy that any-\\nthing that does not need to be in the core contracts should be in the\\nperiphery, and blessing one “canonical\" ERC-20 implementation\\ndiscourages the creation of improved ERC-20 token wrappers. Ar-\\nguably, the ERC-20 token implementation should have been in the\\nperiphery, as a wrapper on a single liquidity position in the core\\ncontract.\\nThe changes made in Uniswap v3 force this issue by making\\ncompletely fungible liquidity tokens impossible. Due to the custom\\nliquidity provision feature, fees are now collected and held by thepool as individual tokens, rather than automatically reinvested as\\nliquidity in the pool.\\nAs a result, in v3, the pool contract does not implement the\\nERC-20 standard. Anyone can create an ERC-20 token contract in\\nthe periphery that makes a liquidity position more fungible, but\\nit will have to have additional logic to handle distribution of, or\\nreinvestment of, collected fees. Alternatively, anyone could create\\na periphery contract that wraps an individual liquidity position\\n(including collected fees) in an ERC-721 non-fungible token.\\n4 GOVERNANCE\\nThe factory has an owner , which is initially controlled by UNI\\ntokenholders.2The owner does not have the ability to halt the\\noperation of any of the core contracts.\\nAs in Uniswap v2 ,Uniswap v3 has a protocol fee that can be\\nturned on by UNI governance. In Uniswap v3 , UNI governance has\\nmore flexibility in choosing the fraction of swap fees that go to the\\nprotocol, and is able to choose any fraction1\\n𝑁where 4≤𝑁≤10,\\nor0. This parameter can be set on a per-pool basis.\\nUNI governance also has the ability to add additional fee tiers.\\nWhen it adds a new fee tier, it can also define the tickSpacing\\n(see Section 6.1) corresponding to that fee tier. Once a fee tier is\\nadded to the factory, it cannot be removed (and the tickSpacing\\ncannot be changed). The initial fee tiers and tick spacings supported\\nare0.05%(with a tick spacing of 10, approximately 0.10%between\\ninitializable ticks), 0.30%(with a tick spacing of 60, approximately\\n0.60%between initializable ticks), and 1%(with a tick spacing of\\n200, approximately 2.02%between ticks.'),\n",
       " Document(metadata={'page': 1.0, 'source': 'data/multi_user/whitepaper-v3.pdf'}, page_content='Hayden Adams, Noah Zinsmeister, Moody Salem, River Keefer, and Dan Robinson\\n•Liquidity Oracle : The contracts expose a time-weighted av-\\nerage liquidity oracle (Section 5.3).\\nTheUniswap v2 core contracts are non-upgradeable by de-\\nsign, so Uniswap v3 is implemented as an entirely new set of\\ncontracts, available here. The Uniswap v3 core contracts are also\\nnon-upgradeable, with some parameters controlled by governance\\nas described in Section 4.\\n2 CONCENTRATED LIQUIDITY\\nThe defining idea of Uniswap v3 is that of concentrated liquidity :\\nliquidity bounded within some price range.\\nIn earlier versions, liquidity was distributed uniformly along the\\n𝑥·𝑦=𝑘 (2.1)\\nreserves curve, where 𝑥and𝑦are the respective reserves of two\\nassets XandY, and 𝑘is a constant [ 1]. In other words, earlier ver-\\nsions were designed to provide liquidity across the entire price\\nrange(0,∞). This is simple to implement and allows liquidity to\\nbe efficiently aggregated, but means that much of the assets held in\\na pool are never touched.\\nHaving considered this, it seems reasonable to allow LPs to\\nconcentrate their liquidity to smaller price ranges than (0,∞). We\\ncall liquidity concentrated to a finite range a position . A position\\nonly needs to maintain enough reserves to support trading within\\nits range, and therefore can act like a constant product pool with\\nlarger reserves (we call these the virtual reserves ) within that range.\\n𝑎𝑏\\n𝑐𝑦real𝑥real\\nXReservesYReservesvirtual reserves\\nFigure 1: Simulation of Virtual Liquidity\\nSpecifically, a position only needs to hold enough of asset Xto\\ncover price movement to its upper bound, because upwards price\\nmovement1corresponds to depletion of the Xreserves. Similarly,\\nit only needs to hold enough of asset Yto cover price movement\\nto its lower bound. Fig. 1 depicts this relationship for a position on\\na range[𝑝𝑎, 𝑝𝑏]and a current price 𝑝𝑐∈[𝑝𝑎, 𝑝𝑏].𝑥realand𝑦real\\ndenote the position’s real reserves.\\nWhen the price exits a position’s range, the position’s liquidity\\nis no longer active, and no longer earns fees. At that point, its\\n1We take asset Yto be the unit of account, which corresponds to token1 in our\\nimplementation.liquidity is composed entirely of a single asset, because the reserves\\nof the other asset must have been entirely depleted. If the price ever\\nreenters the range, the liquidity becomes active again.\\nThe amount of liquidity provided can be measured by the value\\n𝐿, which is equal to√\\n𝑘. The real reserves of a position are described\\nby the curve:\\n(𝑥+𝐿√𝑝𝑏)(𝑦+𝐿√𝑝𝑎)=𝐿2(2.2)\\nThis curve is a translation of formula 2.1 such that the position is\\nsolvent exactly within its range (Fig. 2).\\n𝑎𝑏\\nXReservesYReservesvirtual reserves (2.1)\\nreal reserves (2.2)\\nFigure 2: Real Reserves\\nLiquidity providers are free to create as many positions as they\\nsee fit, each on its own price range. In this way, LPs can approximate\\nany desired distribution of liquidity on the price space (see Fig. 3\\nfor a few examples). Moreover, this serves as a mechanism to let\\nthe market decide where liquidity should be allocated. Rational LPs\\ncan reduce their capital costs by concentrating their liquidity in\\na narrow band around the current price, and adding or removing\\ntokens as the price moves to keep their liquidity active.\\n2.1 Range Orders\\nPositions on very small ranges act similarly to limit orders—if the\\nrange is crossed, the position flips from being composed entirely\\nof one asset, to being composed entirely of the other asset (plus\\naccrued fees). There are two differences between this range order\\nand a traditional limit order:\\n•There is a limit to how narrow a position’s range can be.\\nWhile the price is within that range, the limit order might\\nbe partially executed.\\n•When the position has been crossed, it needs to be with-\\ndrawn. If it is not, and the price crosses back across that\\nrange, the position will be traded back, effectively reversing\\nthe trade.\\n2')]"
      ]
     },
     "execution_count": 37,
     "metadata": {},
     "output_type": "execute_result"
    }
   ],
   "source": [
    "retriever = vectorstore.as_retriever(search_type=\"similarity_score_threshold\", search_kwargs={\"namespace\": USER_2, \"score_threshold\": 0.9})\n",
    "relevant_documents = retriever.invoke(question)\n",
    "relevant_documents"
   ]
  },
  {
   "cell_type": "code",
   "execution_count": 43,
   "metadata": {},
   "outputs": [],
   "source": [
    "def ask_question_by_user(user, question):\n",
    "    retriever = vectorstore.as_retriever(search_type=\"similarity_score_threshold\", search_kwargs={\"namespace\": user, \"score_threshold\": 0.9})\n",
    "    template = \"\"\"Answer the question based only on the following context which is wrapped by tags [CONTEXT][/context]:\n",
    "    [CONTEXT]\n",
    "    {context}\n",
    "    [/CONTEXT]\n",
    "    If you don't know the answer, just say that you don't know. Don't make up an answer.\n",
    "    Question: {question}\n",
    "    \"\"\"\n",
    "    prompt = ChatPromptTemplate.from_template(template)\n",
    "    model = ChatOpenAI()\n",
    "\n",
    "    retrieval_chain = (\n",
    "        {\"context\": retriever, \"question\": RunnablePassthrough()}\n",
    "        | prompt\n",
    "        | model\n",
    "        | StrOutputParser()\n",
    "    )\n",
    "    response = retrieval_chain.invoke(question)\n",
    "    print(response)"
   ]
  },
  {
   "cell_type": "code",
   "execution_count": 46,
   "metadata": {},
   "outputs": [],
   "source": [
    "query = \"What would a health caresystem with a fluid movement of information and state-of-the-art technology look like?\""
   ]
  },
  {
   "cell_type": "code",
   "execution_count": 47,
   "metadata": {},
   "outputs": [
    {
     "name": "stdout",
     "output_type": "stream",
     "text": [
      "The Vision for 2028 describes a health care system with a fluid movement of information and state-of-the-art technology as one where physicians, nurses, and other health care practitioners can focus on patient care without having to worry about health records. Information would flow seamlessly between all necessary parties, including insurance companies, hospitals, physicians, and patients. The electronic health record would be automatically populated with relevant information, and an automated physician's assistant would assist in recording and synthesizing medical information. The goal is to bring Precision Health into practice and keep people healthy by providing real-time diagnostic support and personalized treatment options.\n"
     ]
    }
   ],
   "source": [
    "ask_question_by_user(USER_1, query)\n"
   ]
  },
  {
   "cell_type": "code",
   "execution_count": 48,
   "metadata": {},
   "outputs": [
    {
     "name": "stderr",
     "output_type": "stream",
     "text": [
      "No relevant docs were retrieved using the relevance score threshold 0.9\n"
     ]
    },
    {
     "name": "stdout",
     "output_type": "stream",
     "text": [
      "I'm sorry, I don't know.\n"
     ]
    }
   ],
   "source": [
    "ask_question_by_user(USER_2, query)"
   ]
  }
 ],
 "metadata": {
  "kernelspec": {
   "display_name": "streamlit",
   "language": "python",
   "name": "python3"
  },
  "language_info": {
   "codemirror_mode": {
    "name": "ipython",
    "version": 3
   },
   "file_extension": ".py",
   "mimetype": "text/x-python",
   "name": "python",
   "nbconvert_exporter": "python",
   "pygments_lexer": "ipython3",
   "version": "3.12.4"
  }
 },
 "nbformat": 4,
 "nbformat_minor": 2
}
